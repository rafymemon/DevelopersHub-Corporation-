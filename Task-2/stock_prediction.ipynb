{
 "cells": [
  {
   "cell_type": "markdown",
   "id": "12ee2fb7",
   "metadata": {},
   "source": [
    "# Task2 : Predicting future stock price"
   ]
  },
  {
   "cell_type": "code",
   "execution_count": 8,
   "id": "f172ac84",
   "metadata": {},
   "outputs": [],
   "source": [
    "\n",
    "import pandas as pd # pandas is used for data manipulation and analysis\n",
    "import matplotlib.pyplot as plt # matplotlib is used for plotting graphs\n",
    "import yfinance as yf # yfinance is used to fetch financial data from Yahoo Finance"
   ]
  },
  {
   "cell_type": "code",
   "execution_count": 32,
   "id": "62038219",
   "metadata": {},
   "outputs": [
    {
     "name": "stderr",
     "output_type": "stream",
     "text": [
      "C:\\Users\\Rafy Mustafa\\AppData\\Local\\Temp\\ipykernel_22988\\375060890.py:3: FutureWarning: YF.download() has changed argument auto_adjust default to True\n",
      "  data = yf.download(ticker, start='2018-01-01', end='2023-01-01', progress=False)\n"
     ]
    },
    {
     "name": "stdout",
     "output_type": "stream",
     "text": [
      "Data shape after download: (1259, 5)\n"
     ]
    }
   ],
   "source": [
    "# Step 1: Load historical stock data\n",
    "ticker = 'AAPL'  # Apple stock\n",
    "data = yf.download(ticker, start='2018-01-01', end='2023-01-01', progress=False)\n",
    "\n",
    "# Check if data is retrieved\n",
    "if data.empty:\n",
    "    raise ValueError(\"No data retrieved from yfinance. Check ticker or internet connection.\")\n",
    "print(\"Data shape after download:\", data.shape)\n"
   ]
  },
  {
   "cell_type": "code",
   "execution_count": 33,
   "id": "2b9d496d",
   "metadata": {},
   "outputs": [
    {
     "data": {
      "application/vnd.microsoft.datawrangler.viewer.v0+json": {
       "columns": [
        {
         "name": "Date",
         "rawType": "datetime64[ns]",
         "type": "datetime"
        },
        {
         "name": "('Close', 'AAPL')",
         "rawType": "float64",
         "type": "float"
        },
        {
         "name": "('High', 'AAPL')",
         "rawType": "float64",
         "type": "float"
        },
        {
         "name": "('Low', 'AAPL')",
         "rawType": "float64",
         "type": "float"
        },
        {
         "name": "('Open', 'AAPL')",
         "rawType": "float64",
         "type": "float"
        },
        {
         "name": "('Volume', 'AAPL')",
         "rawType": "int64",
         "type": "integer"
        }
       ],
       "ref": "58a7f601-e145-4b63-97c9-08b587aec634",
       "rows": [
        [
         "2018-01-02 00:00:00",
         "40.42681121826172",
         "40.43620061768266",
         "39.72275666397011",
         "39.93397517886158",
         "102223600"
        ],
        [
         "2018-01-03 00:00:00",
         "40.41978454589844",
         "40.964255303118776",
         "40.35642219303837",
         "40.490190741195256",
         "118071600"
        ],
        [
         "2018-01-04 00:00:00",
         "40.607540130615234",
         "40.71080209052406",
         "40.3845901249985",
         "40.49254320598795",
         "89738400"
        ],
        [
         "2018-01-05 00:00:00",
         "41.06985855102539",
         "41.15669082032517",
         "40.61222370051546",
         "40.703750670617445",
         "94640000"
        ],
        [
         "2018-01-08 00:00:00",
         "40.917335510253906",
         "41.21303735236725",
         "40.81876464854017",
         "40.917335510253906",
         "82271200"
        ],
        [
         "2018-01-09 00:00:00",
         "40.912635803222656",
         "41.08395484770737",
         "40.69672603651383",
         "40.964266788849635",
         "86336000"
        ],
        [
         "2018-01-10 00:00:00",
         "40.903236389160156",
         "40.905585530392194",
         "40.60049439388969",
         "40.638044843522486",
         "95839600"
        ],
        [
         "2018-01-11 00:00:00",
         "41.13557052612305",
         "41.18485593261213",
         "40.95017102382274",
         "40.97363736609717",
         "74670800"
        ],
        [
         "2018-01-12 00:00:00",
         "41.56035614013672",
         "41.62372207810548",
         "41.22240924564743",
         "41.34679198028473",
         "101672400"
        ],
        [
         "2018-01-16 00:00:00",
         "41.34914016723633",
         "42.10013125931942",
         "41.33740520403028",
         "41.750449409423986",
         "118263600"
        ],
        [
         "2018-01-17 00:00:00",
         "42.03207778930664",
         "42.06727910092083",
         "41.08629768651695",
         "41.339754292155696",
         "137547200"
        ],
        [
         "2018-01-18 00:00:00",
         "42.06962585449219",
         "42.266763948147556",
         "41.83259532721489",
         "42.09544134407751",
         "124773600"
        ],
        [
         "2018-01-19 00:00:00",
         "41.881866455078125",
         "42.14471238225326",
         "41.635446607847854",
         "41.917067755679376",
         "129700400"
        ],
        [
         "2018-01-22 00:00:00",
         "41.53921890258789",
         "41.72227280110181",
         "41.44534639396776",
         "41.60962507455632",
         "108434400"
        ],
        [
         "2018-01-23 00:00:00",
         "41.54861831665039",
         "42.111864295697394",
         "41.496990926720386",
         "41.60963869012665",
         "130756400"
        ],
        [
         "2018-01-24 00:00:00",
         "40.88679504394531",
         "41.6096248150333",
         "40.647415493148344",
         "41.597889856277305",
         "204420400"
        ],
        [
         "2018-01-25 00:00:00",
         "40.15693664550781",
         "41.058125875299254",
         "40.02081896272561",
         "40.95486393794671",
         "166116000"
        ],
        [
         "2018-01-26 00:00:00",
         "40.25080490112305",
         "40.3658017884038",
         "39.9105125208525",
         "40.3658017884038",
         "156572000"
        ],
        [
         "2018-01-29 00:00:00",
         "39.41769027709961",
         "39.93399650983338",
         "39.20882079099787",
         "39.93399650983338",
         "202561600"
        ],
        [
         "2018-01-30 00:00:00",
         "39.185333251953125",
         "39.279205768081155",
         "38.65259759135884",
         "38.8473864642811",
         "184192800"
        ],
        [
         "2018-01-31 00:00:00",
         "39.293304443359375",
         "39.53033856476868",
         "39.075049131061",
         "39.16188142765172",
         "129915600"
        ],
        [
         "2018-02-01 00:00:00",
         "39.37543487548828",
         "39.5725693452636",
         "39.13605525875675",
         "39.23227693364981",
         "188923200"
        ],
        [
         "2018-02-02 00:00:00",
         "37.666934967041016",
         "39.145450887556414",
         "37.57306241821802",
         "38.957702208902234",
         "346375200"
        ],
        [
         "2018-02-05 00:00:00",
         "36.72584533691406",
         "38.46016679577537",
         "36.61084843408011",
         "37.33837313664764",
         "290954000"
        ],
        [
         "2018-02-06 00:00:00",
         "38.260677337646484",
         "38.422610484739074",
         "36.14147306701569",
         "36.33626195547437",
         "272975200"
        ],
        [
         "2018-02-07 00:00:00",
         "37.44163131713867",
         "38.34751526986964",
         "37.33133269703871",
         "38.27476351616194",
         "206434400"
        ],
        [
         "2018-02-08 00:00:00",
         "36.4113655090332",
         "37.784273783894626",
         "36.38320446331554",
         "37.617645907713495",
         "217562000"
        ],
        [
         "2018-02-09 00:00:00",
         "36.85673522949219",
         "37.20548409077683",
         "35.402825738060095",
         "37.01225968224657",
         "282690400"
        ],
        [
         "2018-02-12 00:00:00",
         "38.341278076171875",
         "38.61933366859488",
         "37.115937864737404",
         "37.34922453638688",
         "243278000"
        ],
        [
         "2018-02-13 00:00:00",
         "38.72536849975586",
         "38.82198249059951",
         "38.09149154873951",
         "38.16218480046921",
         "130196800"
        ],
        [
         "2018-02-14 00:00:00",
         "39.43935775756836",
         "39.4794164227937",
         "38.38132862243266",
         "38.41902856901624",
         "162579600"
        ],
        [
         "2018-02-15 00:00:00",
         "40.763671875",
         "40.7872338950908",
         "39.82345990009944",
         "40.009615319931726",
         "204588800"
        ],
        [
         "2018-02-16 00:00:00",
         "40.6317024230957",
         "41.19488961852027",
         "40.47618161148825",
         "40.61520937144973",
         "160704400"
        ],
        [
         "2018-02-20 00:00:00",
         "40.49504852294922",
         "41.06294258094195",
         "40.393720669837656",
         "40.542176168197194",
         "135722000"
        ],
        [
         "2018-02-21 00:00:00",
         "40.311241149902344",
         "41.02994570454472",
         "40.29709962274955",
         "40.725969389511896",
         "149886400"
        ],
        [
         "2018-02-22 00:00:00",
         "40.64820861816406",
         "40.98988849322406",
         "40.46205318685",
         "40.48326008492217",
         "123967600"
        ],
        [
         "2018-02-23 00:00:00",
         "41.355125427246094",
         "41.390470250051976",
         "40.893266034139415",
         "40.923900610976254",
         "135249600"
        ],
        [
         "2018-02-26 00:00:00",
         "42.17280578613281",
         "42.27177489318232",
         "41.52243582740411",
         "41.55542552975394",
         "152648800"
        ],
        [
         "2018-02-27 00:00:00",
         "42.036136627197266",
         "42.528627080196344",
         "41.98194002503581",
         "42.203443871619406",
         "155712400"
        ],
        [
         "2018-02-28 00:00:00",
         "41.97250747680664",
         "42.56161185345442",
         "41.95601442397654",
         "42.24113892873372",
         "151128400"
        ],
        [
         "2018-03-01 00:00:00",
         "41.237308502197266",
         "42.363675841065785",
         "40.68590764002808",
         "42.0714787606885",
         "195208000"
        ],
        [
         "2018-03-02 00:00:00",
         "41.52244186401367",
         "41.54364876240569",
         "40.636426422479715",
         "40.71890248814877",
         "153816000"
        ],
        [
         "2018-03-05 00:00:00",
         "41.666168212890625",
         "41.88295815110469",
         "41.12419156955193",
         "41.28678492211425",
         "113605600"
        ],
        [
         "2018-03-06 00:00:00",
         "41.63082504272461",
         "42.00313941685463",
         "41.503580087428105",
         "41.9230220896084",
         "95154000"
        ],
        [
         "2018-03-07 00:00:00",
         "41.244380950927734",
         "41.437608938692705",
         "41.06529449044002",
         "41.22317405342424",
         "126814000"
        ],
        [
         "2018-03-08 00:00:00",
         "41.69445037841797",
         "41.73686416605949",
         "41.25380147175099",
         "41.35041185324811",
         "95096400"
        ],
        [
         "2018-03-09 00:00:00",
         "42.41080856323242",
         "42.41552240582564",
         "41.80049718711683",
         "41.934814733960636",
         "128740800"
        ],
        [
         "2018-03-12 00:00:00",
         "42.820823669433594",
         "42.97870322731675",
         "42.46500588336334",
         "42.48385406124085",
         "128828400"
        ],
        [
         "2018-03-13 00:00:00",
         "42.408443450927734",
         "43.240258490091236",
         "42.23642599068004",
         "43.02582364771228",
         "126774000"
        ],
        [
         "2018-03-14 00:00:00",
         "42.047916412353516",
         "42.53805170675562",
         "41.899460952314094",
         "42.490924073672474",
         "117473600"
        ]
       ],
       "shape": {
        "columns": 5,
        "rows": 1259
       }
      },
      "text/html": [
       "<div>\n",
       "<style scoped>\n",
       "    .dataframe tbody tr th:only-of-type {\n",
       "        vertical-align: middle;\n",
       "    }\n",
       "\n",
       "    .dataframe tbody tr th {\n",
       "        vertical-align: top;\n",
       "    }\n",
       "\n",
       "    .dataframe thead tr th {\n",
       "        text-align: left;\n",
       "    }\n",
       "\n",
       "    .dataframe thead tr:last-of-type th {\n",
       "        text-align: right;\n",
       "    }\n",
       "</style>\n",
       "<table border=\"1\" class=\"dataframe\">\n",
       "  <thead>\n",
       "    <tr>\n",
       "      <th>Price</th>\n",
       "      <th>Close</th>\n",
       "      <th>High</th>\n",
       "      <th>Low</th>\n",
       "      <th>Open</th>\n",
       "      <th>Volume</th>\n",
       "    </tr>\n",
       "    <tr>\n",
       "      <th>Ticker</th>\n",
       "      <th>AAPL</th>\n",
       "      <th>AAPL</th>\n",
       "      <th>AAPL</th>\n",
       "      <th>AAPL</th>\n",
       "      <th>AAPL</th>\n",
       "    </tr>\n",
       "    <tr>\n",
       "      <th>Date</th>\n",
       "      <th></th>\n",
       "      <th></th>\n",
       "      <th></th>\n",
       "      <th></th>\n",
       "      <th></th>\n",
       "    </tr>\n",
       "  </thead>\n",
       "  <tbody>\n",
       "    <tr>\n",
       "      <th>2018-01-02</th>\n",
       "      <td>40.426811</td>\n",
       "      <td>40.436201</td>\n",
       "      <td>39.722757</td>\n",
       "      <td>39.933975</td>\n",
       "      <td>102223600</td>\n",
       "    </tr>\n",
       "    <tr>\n",
       "      <th>2018-01-03</th>\n",
       "      <td>40.419785</td>\n",
       "      <td>40.964255</td>\n",
       "      <td>40.356422</td>\n",
       "      <td>40.490191</td>\n",
       "      <td>118071600</td>\n",
       "    </tr>\n",
       "    <tr>\n",
       "      <th>2018-01-04</th>\n",
       "      <td>40.607540</td>\n",
       "      <td>40.710802</td>\n",
       "      <td>40.384590</td>\n",
       "      <td>40.492543</td>\n",
       "      <td>89738400</td>\n",
       "    </tr>\n",
       "    <tr>\n",
       "      <th>2018-01-05</th>\n",
       "      <td>41.069859</td>\n",
       "      <td>41.156691</td>\n",
       "      <td>40.612224</td>\n",
       "      <td>40.703751</td>\n",
       "      <td>94640000</td>\n",
       "    </tr>\n",
       "    <tr>\n",
       "      <th>2018-01-08</th>\n",
       "      <td>40.917336</td>\n",
       "      <td>41.213037</td>\n",
       "      <td>40.818765</td>\n",
       "      <td>40.917336</td>\n",
       "      <td>82271200</td>\n",
       "    </tr>\n",
       "    <tr>\n",
       "      <th>...</th>\n",
       "      <td>...</td>\n",
       "      <td>...</td>\n",
       "      <td>...</td>\n",
       "      <td>...</td>\n",
       "      <td>...</td>\n",
       "    </tr>\n",
       "    <tr>\n",
       "      <th>2022-12-23</th>\n",
       "      <td>130.173798</td>\n",
       "      <td>130.726634</td>\n",
       "      <td>127.982185</td>\n",
       "      <td>129.245816</td>\n",
       "      <td>63814900</td>\n",
       "    </tr>\n",
       "    <tr>\n",
       "      <th>2022-12-27</th>\n",
       "      <td>128.367172</td>\n",
       "      <td>129.729530</td>\n",
       "      <td>127.073927</td>\n",
       "      <td>129.699914</td>\n",
       "      <td>69007800</td>\n",
       "    </tr>\n",
       "    <tr>\n",
       "      <th>2022-12-28</th>\n",
       "      <td>124.428200</td>\n",
       "      <td>129.354385</td>\n",
       "      <td>124.260376</td>\n",
       "      <td>128.011777</td>\n",
       "      <td>85438400</td>\n",
       "    </tr>\n",
       "    <tr>\n",
       "      <th>2022-12-29</th>\n",
       "      <td>127.952560</td>\n",
       "      <td>128.811430</td>\n",
       "      <td>126.096604</td>\n",
       "      <td>126.353274</td>\n",
       "      <td>75703700</td>\n",
       "    </tr>\n",
       "    <tr>\n",
       "      <th>2022-12-30</th>\n",
       "      <td>128.268433</td>\n",
       "      <td>128.288181</td>\n",
       "      <td>125.800410</td>\n",
       "      <td>126.767881</td>\n",
       "      <td>77034200</td>\n",
       "    </tr>\n",
       "  </tbody>\n",
       "</table>\n",
       "<p>1259 rows × 5 columns</p>\n",
       "</div>"
      ],
      "text/plain": [
       "Price            Close        High         Low        Open     Volume\n",
       "Ticker            AAPL        AAPL        AAPL        AAPL       AAPL\n",
       "Date                                                                 \n",
       "2018-01-02   40.426811   40.436201   39.722757   39.933975  102223600\n",
       "2018-01-03   40.419785   40.964255   40.356422   40.490191  118071600\n",
       "2018-01-04   40.607540   40.710802   40.384590   40.492543   89738400\n",
       "2018-01-05   41.069859   41.156691   40.612224   40.703751   94640000\n",
       "2018-01-08   40.917336   41.213037   40.818765   40.917336   82271200\n",
       "...                ...         ...         ...         ...        ...\n",
       "2022-12-23  130.173798  130.726634  127.982185  129.245816   63814900\n",
       "2022-12-27  128.367172  129.729530  127.073927  129.699914   69007800\n",
       "2022-12-28  124.428200  129.354385  124.260376  128.011777   85438400\n",
       "2022-12-29  127.952560  128.811430  126.096604  126.353274   75703700\n",
       "2022-12-30  128.268433  128.288181  125.800410  126.767881   77034200\n",
       "\n",
       "[1259 rows x 5 columns]"
      ]
     },
     "execution_count": 33,
     "metadata": {},
     "output_type": "execute_result"
    }
   ],
   "source": [
    "data"
   ]
  },
  {
   "cell_type": "code",
   "execution_count": 34,
   "id": "bb48f77f",
   "metadata": {},
   "outputs": [
    {
     "name": "stdout",
     "output_type": "stream",
     "text": [
      "Data shape after dropna: (1210, 8)\n"
     ]
    }
   ],
   "source": [
    "# Step 2: Feature engineering\n",
    "data['SMA_20'] = data['Close'].rolling(window=20).mean()\n",
    "data['SMA_50'] = data['Close'].rolling(window=50).mean()\n",
    "data['Daily_Return'] = data['Close'].pct_change()\n",
    "data = data.dropna()  # Drop rows with NaN values\n",
    "print(\"Data shape after dropna:\", data.shape)"
   ]
  },
  {
   "cell_type": "code",
   "execution_count": 28,
   "id": "1c4431bd",
   "metadata": {},
   "outputs": [],
   "source": [
    "# Step 3: Define features and target\n",
    "features = ['Open', 'High', 'Low', 'Volume', 'SMA_20', 'SMA_50', 'Daily_Return']\n",
    "X = data[features]\n",
    "y = data['Close'].shift(-1)[:-1]  # Next day's closing price (shifted)\n",
    "X = X[:-1]  # Align X with y by removing the last row"
   ]
  },
  {
   "cell_type": "code",
   "execution_count": 36,
   "id": "cfac0acf",
   "metadata": {},
   "outputs": [
    {
     "data": {
      "application/vnd.microsoft.datawrangler.viewer.v0+json": {
       "columns": [
        {
         "name": "Date",
         "rawType": "datetime64[ns]",
         "type": "datetime"
        },
        {
         "name": "('Open', 'AAPL')",
         "rawType": "float64",
         "type": "float"
        },
        {
         "name": "('High', 'AAPL')",
         "rawType": "float64",
         "type": "float"
        },
        {
         "name": "('Low', 'AAPL')",
         "rawType": "float64",
         "type": "float"
        },
        {
         "name": "('Volume', 'AAPL')",
         "rawType": "int64",
         "type": "integer"
        },
        {
         "name": "('SMA_20', '')",
         "rawType": "float64",
         "type": "float"
        },
        {
         "name": "('SMA_50', '')",
         "rawType": "float64",
         "type": "float"
        },
        {
         "name": "('Daily_Return', '')",
         "rawType": "float64",
         "type": "float"
        }
       ],
       "ref": "138fd83f-f3b3-40d4-b21c-70620da2b563",
       "rows": [],
       "shape": {
        "columns": 7,
        "rows": 0
       }
      },
      "text/html": [
       "<div>\n",
       "<style scoped>\n",
       "    .dataframe tbody tr th:only-of-type {\n",
       "        vertical-align: middle;\n",
       "    }\n",
       "\n",
       "    .dataframe tbody tr th {\n",
       "        vertical-align: top;\n",
       "    }\n",
       "\n",
       "    .dataframe thead tr th {\n",
       "        text-align: left;\n",
       "    }\n",
       "\n",
       "    .dataframe thead tr:last-of-type th {\n",
       "        text-align: right;\n",
       "    }\n",
       "</style>\n",
       "<table border=\"1\" class=\"dataframe\">\n",
       "  <thead>\n",
       "    <tr>\n",
       "      <th>Price</th>\n",
       "      <th>Open</th>\n",
       "      <th>High</th>\n",
       "      <th>Low</th>\n",
       "      <th>Volume</th>\n",
       "      <th>SMA_20</th>\n",
       "      <th>SMA_50</th>\n",
       "      <th>Daily_Return</th>\n",
       "    </tr>\n",
       "    <tr>\n",
       "      <th>Ticker</th>\n",
       "      <th>AAPL</th>\n",
       "      <th>AAPL</th>\n",
       "      <th>AAPL</th>\n",
       "      <th>AAPL</th>\n",
       "      <th></th>\n",
       "      <th></th>\n",
       "      <th></th>\n",
       "    </tr>\n",
       "    <tr>\n",
       "      <th>Date</th>\n",
       "      <th></th>\n",
       "      <th></th>\n",
       "      <th></th>\n",
       "      <th></th>\n",
       "      <th></th>\n",
       "      <th></th>\n",
       "      <th></th>\n",
       "    </tr>\n",
       "  </thead>\n",
       "  <tbody>\n",
       "  </tbody>\n",
       "</table>\n",
       "</div>"
      ],
      "text/plain": [
       "Empty DataFrame\n",
       "Columns: [(Open, AAPL), (High, AAPL), (Low, AAPL), (Volume, AAPL), (SMA_20, ), (SMA_50, ), (Daily_Return, )]\n",
       "Index: []"
      ]
     },
     "execution_count": 36,
     "metadata": {},
     "output_type": "execute_result"
    }
   ],
   "source": [
    "X"
   ]
  },
  {
   "cell_type": "code",
   "execution_count": 37,
   "id": "773a5ba1",
   "metadata": {},
   "outputs": [],
   "source": [
    "# Step 3: Define features and target\n",
    "features = ['Open', 'High', 'Low', 'Volume', 'SMA_20', 'SMA_50', 'Daily_Return']\n",
    "X = data[features]\n",
    "y = data['Close'].shift(-1)[:-1]  # Next day's closing price\n",
    "X = X[:-1]  # Align with y"
   ]
  },
  {
   "cell_type": "code",
   "execution_count": 48,
   "id": "3a83792e",
   "metadata": {},
   "outputs": [
    {
     "name": "stdout",
     "output_type": "stream",
     "text": [
      "X shape: (1209, 7), y shape: (1209, 1)\n"
     ]
    }
   ],
   "source": [
    "print(f\"X shape: {X.shape}, y shape: {y.shape}\")"
   ]
  },
  {
   "cell_type": "code",
   "execution_count": null,
   "id": "56fc1ec0",
   "metadata": {},
   "outputs": [],
   "source": [
    "if X.shape[0] == 0 or y.shape[0] == 0:\n",
    "    raise ValueError(f\"X or y is empty after preprocessing. Check data processing steps.\")"
   ]
  },
  {
   "cell_type": "code",
   "execution_count": 46,
   "id": "e627f683",
   "metadata": {},
   "outputs": [],
   "source": [
    "# Split the data into training and testing sets\n",
    "from sklearn.model_selection import train_test_split"
   ]
  },
  {
   "cell_type": "code",
   "execution_count": 47,
   "id": "16613963",
   "metadata": {},
   "outputs": [
    {
     "name": "stdout",
     "output_type": "stream",
     "text": [
      "X_train shape: (967, 7), X_test shape: (242, 7)\n"
     ]
    }
   ],
   "source": [
    "X_train, X_test, Y_train, Y_test = train_test_split(X, y, test_size = 0.2, random_state = 42, shuffle= False)\n",
    "\n",
    "print(f\"X_train shape: {X_train.shape}, X_test shape: {X_test.shape}\")"
   ]
  },
  {
   "cell_type": "code",
   "execution_count": 50,
   "id": "15a8d2fb",
   "metadata": {},
   "outputs": [],
   "source": [
    "# Preprocessing data using ColumnTransformer\n",
    "from sklearn.compose import ColumnTransformer\n",
    "from sklearn.preprocessing import StandardScaler"
   ]
  },
  {
   "cell_type": "code",
   "execution_count": 51,
   "id": "c321815c",
   "metadata": {},
   "outputs": [],
   "source": [
    "transformer = ColumnTransformer(transformers = [\n",
    "    ('num', StandardScaler(), features)\n",
    "    ],\n",
    "    remainder = 'passthrough')"
   ]
  },
  {
   "cell_type": "code",
   "execution_count": 53,
   "id": "3ad3cae7",
   "metadata": {},
   "outputs": [],
   "source": [
    "# Step 4: Createing a machine learning model\n",
    "from sklearn.ensemble import RandomForestRegressor\n",
    "from sklearn.pipeline import Pipeline"
   ]
  },
  {
   "cell_type": "code",
   "execution_count": 54,
   "id": "e3159be7",
   "metadata": {},
   "outputs": [],
   "source": [
    "# creating pipeline \n",
    "rf_pipeline = Pipeline([\n",
    "    ('preprocessor', transformer),\n",
    "    ('model', RandomForestRegressor(n_estimators=100, random_state=42))\n",
    "])"
   ]
  },
  {
   "cell_type": "code",
   "execution_count": 59,
   "id": "a5ed9dec",
   "metadata": {},
   "outputs": [],
   "source": [
    "#rf_pipeline.fit(X_train, Y_train)"
   ]
  },
  {
   "cell_type": "code",
   "execution_count": null,
   "id": "23135d17",
   "metadata": {},
   "outputs": [],
   "source": []
  }
 ],
 "metadata": {
  "kernelspec": {
   "display_name": ".venv",
   "language": "python",
   "name": "python3"
  },
  "language_info": {
   "codemirror_mode": {
    "name": "ipython",
    "version": 3
   },
   "file_extension": ".py",
   "mimetype": "text/x-python",
   "name": "python",
   "nbconvert_exporter": "python",
   "pygments_lexer": "ipython3",
   "version": "3.13.3"
  }
 },
 "nbformat": 4,
 "nbformat_minor": 5
}
